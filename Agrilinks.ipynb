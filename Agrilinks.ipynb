{
 "cells": [
  {
   "cell_type": "markdown",
   "id": "first-monkey",
   "metadata": {},
   "source": [
    "a. Write a python script to fetch data of prices for the year 2020 (date wise from 1st\n",
    "Jan’2020 to 31st Dec’2020) for district “Agra” of Uttar Pradesh from the data sources\n",
    "mentioned in the data section (can take point b as a reference). Following is the\n",
    "output schema expected:"
   ]
  },
  {
   "cell_type": "code",
   "execution_count": 1,
   "id": "amended-accused",
   "metadata": {},
   "outputs": [],
   "source": [
    "import selenium\n",
    "from selenium import webdriver\n",
    "from selenium.webdriver.support.ui import Select\n",
    "from webdriver_manager.chrome import ChromeDriverManager\n",
    "from selenium.common.exceptions import ElementClickInterceptedException"
   ]
  },
  {
   "cell_type": "code",
   "execution_count": 2,
   "id": "modular-waters",
   "metadata": {},
   "outputs": [
    {
     "name": "stderr",
     "output_type": "stream",
     "text": [
      "\n",
      "\n",
      "====== WebDriver manager ======\n",
      "Current google-chrome version is 93.0.4577\n",
      "Get LATEST driver version for 93.0.4577\n",
      "Driver [C:\\Users\\Admin\\.wdm\\drivers\\chromedriver\\win32\\93.0.4577.63\\chromedriver.exe] found in cache\n"
     ]
    }
   ],
   "source": [
    "driver = webdriver.Chrome(ChromeDriverManager().install())"
   ]
  },
  {
   "cell_type": "code",
   "execution_count": 3,
   "id": "rapid-lodging",
   "metadata": {},
   "outputs": [],
   "source": [
    "driver.get(\"https://agmarknet.gov.in/default.aspx\")"
   ]
  },
  {
   "cell_type": "code",
   "execution_count": 14,
   "id": "forward-meter",
   "metadata": {},
   "outputs": [],
   "source": [
    "arrival_price = driver.find_element_by_id(\"ddlArrivalPrice\")\n",
    "s1 = Select(arrival_price)\n",
    "s1.select_by_value(\"0\")\n",
    "\n",
    "commodity = driver.find_element_by_id(\"ddlCommodity\")\n",
    "s2 = Select(commodity)\n",
    "s2.select_by_value(\"24\")\n",
    "\n",
    "state = driver.find_element_by_id(\"ddlState\")\n",
    "s3 = Select(state)\n",
    "s3.select_by_value(\"UP\")\n"
   ]
  },
  {
   "cell_type": "code",
   "execution_count": 17,
   "id": "outside-construction",
   "metadata": {},
   "outputs": [],
   "source": [
    "\n",
    "district = driver.find_element_by_id(\"ddlDistrict\")\n",
    "s4 = Select(district)\n",
    "s4.select_by_value(\"1\")\n",
    "\n",
    "market = driver.find_element_by_id(\"ddlMarket\")\n",
    "s5 = Select(market)\n",
    "s5.select_by_value(\"0\")\n",
    "\n",
    "start_date = driver.find_element_by_id(\"txtDate\")\n",
    "start_date.clear()\n",
    "start_date.send_keys(\"01-Jan-2020\")\n",
    "\n",
    "\n",
    "end_date = driver.find_element_by_id(\"txtDateTo\")\n",
    "end_date.clear()\n",
    "end_date.send_keys(\"31-Dec-2020\")\n",
    "\n",
    "\n",
    "btn_go = driver.find_element_by_id(\"btnGo\").click()\n",
    "\n"
   ]
  },
  {
   "cell_type": "code",
   "execution_count": 18,
   "id": "activated-thesaurus",
   "metadata": {},
   "outputs": [],
   "source": [
    "driver.find_element_by_id(\"cphBody_ButtonExcel\").click()"
   ]
  },
  {
   "cell_type": "markdown",
   "id": "floating-vaccine",
   "metadata": {},
   "source": [
    "b. Identify major markets for the district “Agra” and plot price patterns for each of\n",
    "them. What patterns do you identify? "
   ]
  },
  {
   "cell_type": "code",
   "execution_count": 19,
   "id": "angry-preparation",
   "metadata": {},
   "outputs": [],
   "source": [
    "import pandas as pd \n",
    "import matplotlib.pyplot as plt"
   ]
  },
  {
   "cell_type": "code",
   "execution_count": 57,
   "id": "logical-trust",
   "metadata": {},
   "outputs": [
    {
     "data": {
      "text/html": [
       "<div>\n",
       "<style scoped>\n",
       "    .dataframe tbody tr th:only-of-type {\n",
       "        vertical-align: middle;\n",
       "    }\n",
       "\n",
       "    .dataframe tbody tr th {\n",
       "        vertical-align: top;\n",
       "    }\n",
       "\n",
       "    .dataframe thead th {\n",
       "        text-align: right;\n",
       "    }\n",
       "</style>\n",
       "<table border=\"1\" class=\"dataframe\">\n",
       "  <thead>\n",
       "    <tr style=\"text-align: right;\">\n",
       "      <th></th>\n",
       "      <th>Min,Max,Modal Price from Uttar Pradesh,Agra[Potato] from 01-Jan-2020To31-Dec-2020 (Total-1827) (Total-1827)</th>\n",
       "      <th>Unnamed: 1</th>\n",
       "      <th>Unnamed: 2</th>\n",
       "      <th>Unnamed: 3</th>\n",
       "      <th>Unnamed: 4</th>\n",
       "      <th>Unnamed: 5</th>\n",
       "      <th>Unnamed: 6</th>\n",
       "      <th>Unnamed: 7</th>\n",
       "      <th>Unnamed: 8</th>\n",
       "      <th>Unnamed: 9</th>\n",
       "    </tr>\n",
       "  </thead>\n",
       "  <tbody>\n",
       "    <tr>\n",
       "      <th>0</th>\n",
       "      <td>Sl no.</td>\n",
       "      <td>District Name</td>\n",
       "      <td>Market Name</td>\n",
       "      <td>Commodity</td>\n",
       "      <td>Variety</td>\n",
       "      <td>Grade</td>\n",
       "      <td>Min Price (Rs./Quintal)</td>\n",
       "      <td>Max Price (Rs./Quintal)</td>\n",
       "      <td>Modal Price (Rs./Quintal)</td>\n",
       "      <td>Price Date</td>\n",
       "    </tr>\n",
       "    <tr>\n",
       "      <th>1</th>\n",
       "      <td>1</td>\n",
       "      <td>Agra</td>\n",
       "      <td>Achnera</td>\n",
       "      <td>Potato</td>\n",
       "      <td>Desi</td>\n",
       "      <td>FAQ</td>\n",
       "      <td>900</td>\n",
       "      <td>1000</td>\n",
       "      <td>950</td>\n",
       "      <td>2020-12-30 00:00:00</td>\n",
       "    </tr>\n",
       "    <tr>\n",
       "      <th>2</th>\n",
       "      <td>2</td>\n",
       "      <td>Agra</td>\n",
       "      <td>Achnera</td>\n",
       "      <td>Potato</td>\n",
       "      <td>Desi</td>\n",
       "      <td>FAQ</td>\n",
       "      <td>800</td>\n",
       "      <td>900</td>\n",
       "      <td>850</td>\n",
       "      <td>2020-12-29 00:00:00</td>\n",
       "    </tr>\n",
       "    <tr>\n",
       "      <th>3</th>\n",
       "      <td>3</td>\n",
       "      <td>Agra</td>\n",
       "      <td>Achnera</td>\n",
       "      <td>Potato</td>\n",
       "      <td>Desi</td>\n",
       "      <td>FAQ</td>\n",
       "      <td>850</td>\n",
       "      <td>950</td>\n",
       "      <td>900</td>\n",
       "      <td>2020-12-28 00:00:00</td>\n",
       "    </tr>\n",
       "    <tr>\n",
       "      <th>4</th>\n",
       "      <td>4</td>\n",
       "      <td>Agra</td>\n",
       "      <td>Achnera</td>\n",
       "      <td>Potato</td>\n",
       "      <td>Desi</td>\n",
       "      <td>FAQ</td>\n",
       "      <td>800</td>\n",
       "      <td>900</td>\n",
       "      <td>850</td>\n",
       "      <td>2020-12-27 00:00:00</td>\n",
       "    </tr>\n",
       "  </tbody>\n",
       "</table>\n",
       "</div>"
      ],
      "text/plain": [
       "  Min,Max,Modal Price from Uttar Pradesh,Agra[Potato] from 01-Jan-2020To31-Dec-2020 (Total-1827) (Total-1827)  \\\n",
       "0                                             Sl no.                                                            \n",
       "1                                                  1                                                            \n",
       "2                                                  2                                                            \n",
       "3                                                  3                                                            \n",
       "4                                                  4                                                            \n",
       "\n",
       "      Unnamed: 1   Unnamed: 2 Unnamed: 3 Unnamed: 4 Unnamed: 5  \\\n",
       "0  District Name  Market Name  Commodity    Variety      Grade   \n",
       "1           Agra      Achnera     Potato       Desi        FAQ   \n",
       "2           Agra      Achnera     Potato       Desi        FAQ   \n",
       "3           Agra      Achnera     Potato       Desi        FAQ   \n",
       "4           Agra      Achnera     Potato       Desi        FAQ   \n",
       "\n",
       "                Unnamed: 6               Unnamed: 7  \\\n",
       "0  Min Price (Rs./Quintal)  Max Price (Rs./Quintal)   \n",
       "1                      900                     1000   \n",
       "2                      800                      900   \n",
       "3                      850                      950   \n",
       "4                      800                      900   \n",
       "\n",
       "                  Unnamed: 8           Unnamed: 9  \n",
       "0  Modal Price (Rs./Quintal)           Price Date  \n",
       "1                        950  2020-12-30 00:00:00  \n",
       "2                        850  2020-12-29 00:00:00  \n",
       "3                        900  2020-12-28 00:00:00  \n",
       "4                        850  2020-12-27 00:00:00  "
      ]
     },
     "execution_count": 57,
     "metadata": {},
     "output_type": "execute_result"
    }
   ],
   "source": [
    "df = pd.read_excel(\"agra data.xlsx\")\n",
    "df.head()"
   ]
  },
  {
   "cell_type": "code",
   "execution_count": 58,
   "id": "amber-proposition",
   "metadata": {},
   "outputs": [
    {
     "data": {
      "text/plain": [
       "(1828, 10)"
      ]
     },
     "execution_count": 58,
     "metadata": {},
     "output_type": "execute_result"
    }
   ],
   "source": [
    "df.shape"
   ]
  },
  {
   "cell_type": "code",
   "execution_count": 59,
   "id": "ordinary-tracy",
   "metadata": {},
   "outputs": [
    {
     "data": {
      "text/plain": [
       "Index(['Min,Max,Modal Price from Uttar Pradesh,Agra[Potato] from 01-Jan-2020To31-Dec-2020 (Total-1827) (Total-1827)',\n",
       "       'Unnamed: 1', 'Unnamed: 2', 'Unnamed: 3', 'Unnamed: 4', 'Unnamed: 5',\n",
       "       'Unnamed: 6', 'Unnamed: 7', 'Unnamed: 8', 'Unnamed: 9'],\n",
       "      dtype='object')"
      ]
     },
     "execution_count": 59,
     "metadata": {},
     "output_type": "execute_result"
    }
   ],
   "source": [
    "df.columns"
   ]
  },
  {
   "cell_type": "code",
   "execution_count": 60,
   "id": "expensive-mississippi",
   "metadata": {},
   "outputs": [],
   "source": [
    "df = df.iloc[: , 1:] #droppng 1st column"
   ]
  },
  {
   "cell_type": "code",
   "execution_count": 61,
   "id": "durable-secretariat",
   "metadata": {},
   "outputs": [
    {
     "data": {
      "text/html": [
       "<div>\n",
       "<style scoped>\n",
       "    .dataframe tbody tr th:only-of-type {\n",
       "        vertical-align: middle;\n",
       "    }\n",
       "\n",
       "    .dataframe tbody tr th {\n",
       "        vertical-align: top;\n",
       "    }\n",
       "\n",
       "    .dataframe thead th {\n",
       "        text-align: right;\n",
       "    }\n",
       "</style>\n",
       "<table border=\"1\" class=\"dataframe\">\n",
       "  <thead>\n",
       "    <tr style=\"text-align: right;\">\n",
       "      <th></th>\n",
       "      <th>Unnamed: 1</th>\n",
       "      <th>Unnamed: 2</th>\n",
       "      <th>Unnamed: 3</th>\n",
       "      <th>Unnamed: 4</th>\n",
       "      <th>Unnamed: 5</th>\n",
       "      <th>Unnamed: 6</th>\n",
       "      <th>Unnamed: 7</th>\n",
       "      <th>Unnamed: 8</th>\n",
       "      <th>Unnamed: 9</th>\n",
       "    </tr>\n",
       "  </thead>\n",
       "  <tbody>\n",
       "    <tr>\n",
       "      <th>0</th>\n",
       "      <td>District Name</td>\n",
       "      <td>Market Name</td>\n",
       "      <td>Commodity</td>\n",
       "      <td>Variety</td>\n",
       "      <td>Grade</td>\n",
       "      <td>Min Price (Rs./Quintal)</td>\n",
       "      <td>Max Price (Rs./Quintal)</td>\n",
       "      <td>Modal Price (Rs./Quintal)</td>\n",
       "      <td>Price Date</td>\n",
       "    </tr>\n",
       "    <tr>\n",
       "      <th>1</th>\n",
       "      <td>Agra</td>\n",
       "      <td>Achnera</td>\n",
       "      <td>Potato</td>\n",
       "      <td>Desi</td>\n",
       "      <td>FAQ</td>\n",
       "      <td>900</td>\n",
       "      <td>1000</td>\n",
       "      <td>950</td>\n",
       "      <td>2020-12-30 00:00:00</td>\n",
       "    </tr>\n",
       "    <tr>\n",
       "      <th>2</th>\n",
       "      <td>Agra</td>\n",
       "      <td>Achnera</td>\n",
       "      <td>Potato</td>\n",
       "      <td>Desi</td>\n",
       "      <td>FAQ</td>\n",
       "      <td>800</td>\n",
       "      <td>900</td>\n",
       "      <td>850</td>\n",
       "      <td>2020-12-29 00:00:00</td>\n",
       "    </tr>\n",
       "    <tr>\n",
       "      <th>3</th>\n",
       "      <td>Agra</td>\n",
       "      <td>Achnera</td>\n",
       "      <td>Potato</td>\n",
       "      <td>Desi</td>\n",
       "      <td>FAQ</td>\n",
       "      <td>850</td>\n",
       "      <td>950</td>\n",
       "      <td>900</td>\n",
       "      <td>2020-12-28 00:00:00</td>\n",
       "    </tr>\n",
       "    <tr>\n",
       "      <th>4</th>\n",
       "      <td>Agra</td>\n",
       "      <td>Achnera</td>\n",
       "      <td>Potato</td>\n",
       "      <td>Desi</td>\n",
       "      <td>FAQ</td>\n",
       "      <td>800</td>\n",
       "      <td>900</td>\n",
       "      <td>850</td>\n",
       "      <td>2020-12-27 00:00:00</td>\n",
       "    </tr>\n",
       "  </tbody>\n",
       "</table>\n",
       "</div>"
      ],
      "text/plain": [
       "      Unnamed: 1   Unnamed: 2 Unnamed: 3 Unnamed: 4 Unnamed: 5  \\\n",
       "0  District Name  Market Name  Commodity    Variety      Grade   \n",
       "1           Agra      Achnera     Potato       Desi        FAQ   \n",
       "2           Agra      Achnera     Potato       Desi        FAQ   \n",
       "3           Agra      Achnera     Potato       Desi        FAQ   \n",
       "4           Agra      Achnera     Potato       Desi        FAQ   \n",
       "\n",
       "                Unnamed: 6               Unnamed: 7  \\\n",
       "0  Min Price (Rs./Quintal)  Max Price (Rs./Quintal)   \n",
       "1                      900                     1000   \n",
       "2                      800                      900   \n",
       "3                      850                      950   \n",
       "4                      800                      900   \n",
       "\n",
       "                  Unnamed: 8           Unnamed: 9  \n",
       "0  Modal Price (Rs./Quintal)           Price Date  \n",
       "1                        950  2020-12-30 00:00:00  \n",
       "2                        850  2020-12-29 00:00:00  \n",
       "3                        900  2020-12-28 00:00:00  \n",
       "4                        850  2020-12-27 00:00:00  "
      ]
     },
     "execution_count": 61,
     "metadata": {},
     "output_type": "execute_result"
    }
   ],
   "source": [
    "df.head()"
   ]
  },
  {
   "cell_type": "code",
   "execution_count": 62,
   "id": "signed-plymouth",
   "metadata": {},
   "outputs": [],
   "source": [
    "df.columns = df.iloc[0]"
   ]
  },
  {
   "cell_type": "code",
   "execution_count": 63,
   "id": "pressed-jaguar",
   "metadata": {},
   "outputs": [
    {
     "data": {
      "text/html": [
       "<div>\n",
       "<style scoped>\n",
       "    .dataframe tbody tr th:only-of-type {\n",
       "        vertical-align: middle;\n",
       "    }\n",
       "\n",
       "    .dataframe tbody tr th {\n",
       "        vertical-align: top;\n",
       "    }\n",
       "\n",
       "    .dataframe thead th {\n",
       "        text-align: right;\n",
       "    }\n",
       "</style>\n",
       "<table border=\"1\" class=\"dataframe\">\n",
       "  <thead>\n",
       "    <tr style=\"text-align: right;\">\n",
       "      <th></th>\n",
       "      <th>District Name</th>\n",
       "      <th>Market Name</th>\n",
       "      <th>Commodity</th>\n",
       "      <th>Variety</th>\n",
       "      <th>Grade</th>\n",
       "      <th>Min Price (Rs./Quintal)</th>\n",
       "      <th>Max Price (Rs./Quintal)</th>\n",
       "      <th>Modal Price (Rs./Quintal)</th>\n",
       "      <th>Price Date</th>\n",
       "    </tr>\n",
       "  </thead>\n",
       "  <tbody>\n",
       "    <tr>\n",
       "      <th>0</th>\n",
       "      <td>District Name</td>\n",
       "      <td>Market Name</td>\n",
       "      <td>Commodity</td>\n",
       "      <td>Variety</td>\n",
       "      <td>Grade</td>\n",
       "      <td>Min Price (Rs./Quintal)</td>\n",
       "      <td>Max Price (Rs./Quintal)</td>\n",
       "      <td>Modal Price (Rs./Quintal)</td>\n",
       "      <td>Price Date</td>\n",
       "    </tr>\n",
       "    <tr>\n",
       "      <th>1</th>\n",
       "      <td>Agra</td>\n",
       "      <td>Achnera</td>\n",
       "      <td>Potato</td>\n",
       "      <td>Desi</td>\n",
       "      <td>FAQ</td>\n",
       "      <td>900</td>\n",
       "      <td>1000</td>\n",
       "      <td>950</td>\n",
       "      <td>2020-12-30 00:00:00</td>\n",
       "    </tr>\n",
       "    <tr>\n",
       "      <th>2</th>\n",
       "      <td>Agra</td>\n",
       "      <td>Achnera</td>\n",
       "      <td>Potato</td>\n",
       "      <td>Desi</td>\n",
       "      <td>FAQ</td>\n",
       "      <td>800</td>\n",
       "      <td>900</td>\n",
       "      <td>850</td>\n",
       "      <td>2020-12-29 00:00:00</td>\n",
       "    </tr>\n",
       "    <tr>\n",
       "      <th>3</th>\n",
       "      <td>Agra</td>\n",
       "      <td>Achnera</td>\n",
       "      <td>Potato</td>\n",
       "      <td>Desi</td>\n",
       "      <td>FAQ</td>\n",
       "      <td>850</td>\n",
       "      <td>950</td>\n",
       "      <td>900</td>\n",
       "      <td>2020-12-28 00:00:00</td>\n",
       "    </tr>\n",
       "    <tr>\n",
       "      <th>4</th>\n",
       "      <td>Agra</td>\n",
       "      <td>Achnera</td>\n",
       "      <td>Potato</td>\n",
       "      <td>Desi</td>\n",
       "      <td>FAQ</td>\n",
       "      <td>800</td>\n",
       "      <td>900</td>\n",
       "      <td>850</td>\n",
       "      <td>2020-12-27 00:00:00</td>\n",
       "    </tr>\n",
       "  </tbody>\n",
       "</table>\n",
       "</div>"
      ],
      "text/plain": [
       "0  District Name  Market Name  Commodity  Variety  Grade  \\\n",
       "0  District Name  Market Name  Commodity  Variety  Grade   \n",
       "1           Agra      Achnera     Potato     Desi    FAQ   \n",
       "2           Agra      Achnera     Potato     Desi    FAQ   \n",
       "3           Agra      Achnera     Potato     Desi    FAQ   \n",
       "4           Agra      Achnera     Potato     Desi    FAQ   \n",
       "\n",
       "0  Min Price (Rs./Quintal)  Max Price (Rs./Quintal)  \\\n",
       "0  Min Price (Rs./Quintal)  Max Price (Rs./Quintal)   \n",
       "1                      900                     1000   \n",
       "2                      800                      900   \n",
       "3                      850                      950   \n",
       "4                      800                      900   \n",
       "\n",
       "0  Modal Price (Rs./Quintal)           Price Date  \n",
       "0  Modal Price (Rs./Quintal)           Price Date  \n",
       "1                        950  2020-12-30 00:00:00  \n",
       "2                        850  2020-12-29 00:00:00  \n",
       "3                        900  2020-12-28 00:00:00  \n",
       "4                        850  2020-12-27 00:00:00  "
      ]
     },
     "execution_count": 63,
     "metadata": {},
     "output_type": "execute_result"
    }
   ],
   "source": [
    "df.head()"
   ]
  },
  {
   "cell_type": "code",
   "execution_count": 64,
   "id": "brown-wagon",
   "metadata": {},
   "outputs": [],
   "source": [
    "df = df.drop(0, axis=0)"
   ]
  },
  {
   "cell_type": "code",
   "execution_count": 65,
   "id": "favorite-commission",
   "metadata": {},
   "outputs": [
    {
     "data": {
      "text/html": [
       "<div>\n",
       "<style scoped>\n",
       "    .dataframe tbody tr th:only-of-type {\n",
       "        vertical-align: middle;\n",
       "    }\n",
       "\n",
       "    .dataframe tbody tr th {\n",
       "        vertical-align: top;\n",
       "    }\n",
       "\n",
       "    .dataframe thead th {\n",
       "        text-align: right;\n",
       "    }\n",
       "</style>\n",
       "<table border=\"1\" class=\"dataframe\">\n",
       "  <thead>\n",
       "    <tr style=\"text-align: right;\">\n",
       "      <th></th>\n",
       "      <th>District Name</th>\n",
       "      <th>Market Name</th>\n",
       "      <th>Commodity</th>\n",
       "      <th>Variety</th>\n",
       "      <th>Grade</th>\n",
       "      <th>Min Price (Rs./Quintal)</th>\n",
       "      <th>Max Price (Rs./Quintal)</th>\n",
       "      <th>Modal Price (Rs./Quintal)</th>\n",
       "      <th>Price Date</th>\n",
       "    </tr>\n",
       "  </thead>\n",
       "  <tbody>\n",
       "    <tr>\n",
       "      <th>1</th>\n",
       "      <td>Agra</td>\n",
       "      <td>Achnera</td>\n",
       "      <td>Potato</td>\n",
       "      <td>Desi</td>\n",
       "      <td>FAQ</td>\n",
       "      <td>900</td>\n",
       "      <td>1000</td>\n",
       "      <td>950</td>\n",
       "      <td>2020-12-30 00:00:00</td>\n",
       "    </tr>\n",
       "    <tr>\n",
       "      <th>2</th>\n",
       "      <td>Agra</td>\n",
       "      <td>Achnera</td>\n",
       "      <td>Potato</td>\n",
       "      <td>Desi</td>\n",
       "      <td>FAQ</td>\n",
       "      <td>800</td>\n",
       "      <td>900</td>\n",
       "      <td>850</td>\n",
       "      <td>2020-12-29 00:00:00</td>\n",
       "    </tr>\n",
       "    <tr>\n",
       "      <th>3</th>\n",
       "      <td>Agra</td>\n",
       "      <td>Achnera</td>\n",
       "      <td>Potato</td>\n",
       "      <td>Desi</td>\n",
       "      <td>FAQ</td>\n",
       "      <td>850</td>\n",
       "      <td>950</td>\n",
       "      <td>900</td>\n",
       "      <td>2020-12-28 00:00:00</td>\n",
       "    </tr>\n",
       "    <tr>\n",
       "      <th>4</th>\n",
       "      <td>Agra</td>\n",
       "      <td>Achnera</td>\n",
       "      <td>Potato</td>\n",
       "      <td>Desi</td>\n",
       "      <td>FAQ</td>\n",
       "      <td>800</td>\n",
       "      <td>900</td>\n",
       "      <td>850</td>\n",
       "      <td>2020-12-27 00:00:00</td>\n",
       "    </tr>\n",
       "    <tr>\n",
       "      <th>5</th>\n",
       "      <td>Agra</td>\n",
       "      <td>Achnera</td>\n",
       "      <td>Potato</td>\n",
       "      <td>Desi</td>\n",
       "      <td>FAQ</td>\n",
       "      <td>800</td>\n",
       "      <td>900</td>\n",
       "      <td>850</td>\n",
       "      <td>2020-12-26 00:00:00</td>\n",
       "    </tr>\n",
       "  </tbody>\n",
       "</table>\n",
       "</div>"
      ],
      "text/plain": [
       "0 District Name Market Name Commodity Variety Grade Min Price (Rs./Quintal)  \\\n",
       "1          Agra     Achnera    Potato    Desi   FAQ                     900   \n",
       "2          Agra     Achnera    Potato    Desi   FAQ                     800   \n",
       "3          Agra     Achnera    Potato    Desi   FAQ                     850   \n",
       "4          Agra     Achnera    Potato    Desi   FAQ                     800   \n",
       "5          Agra     Achnera    Potato    Desi   FAQ                     800   \n",
       "\n",
       "0 Max Price (Rs./Quintal) Modal Price (Rs./Quintal)           Price Date  \n",
       "1                    1000                       950  2020-12-30 00:00:00  \n",
       "2                     900                       850  2020-12-29 00:00:00  \n",
       "3                     950                       900  2020-12-28 00:00:00  \n",
       "4                     900                       850  2020-12-27 00:00:00  \n",
       "5                     900                       850  2020-12-26 00:00:00  "
      ]
     },
     "execution_count": 65,
     "metadata": {},
     "output_type": "execute_result"
    }
   ],
   "source": [
    "df.head()"
   ]
  },
  {
   "cell_type": "code",
   "execution_count": 68,
   "id": "motivated-weather",
   "metadata": {},
   "outputs": [
    {
     "data": {
      "text/plain": [
       "Index(['District Name', 'Market Name', 'Commodity', 'Variety', 'Grade',\n",
       "       'Min Price (Rs./Quintal)', 'Max Price (Rs./Quintal)',\n",
       "       'Modal Price (Rs./Quintal)', 'Price Date'],\n",
       "      dtype='object', name=0)"
      ]
     },
     "execution_count": 68,
     "metadata": {},
     "output_type": "execute_result"
    }
   ],
   "source": [
    "df.columns"
   ]
  },
  {
   "cell_type": "code",
   "execution_count": 66,
   "id": "classified-timber",
   "metadata": {},
   "outputs": [
    {
     "data": {
      "text/plain": [
       "0\n",
       "District Name                0\n",
       "Market Name                  0\n",
       "Commodity                    0\n",
       "Variety                      0\n",
       "Grade                        0\n",
       "Min Price (Rs./Quintal)      0\n",
       "Max Price (Rs./Quintal)      0\n",
       "Modal Price (Rs./Quintal)    0\n",
       "Price Date                   0\n",
       "dtype: int64"
      ]
     },
     "execution_count": 66,
     "metadata": {},
     "output_type": "execute_result"
    }
   ],
   "source": [
    "df.isnull().sum()"
   ]
  },
  {
   "cell_type": "code",
   "execution_count": 67,
   "id": "worst-distributor",
   "metadata": {},
   "outputs": [
    {
     "data": {
      "text/plain": [
       "0\n",
       "District Name                object\n",
       "Market Name                  object\n",
       "Commodity                    object\n",
       "Variety                      object\n",
       "Grade                        object\n",
       "Min Price (Rs./Quintal)      object\n",
       "Max Price (Rs./Quintal)      object\n",
       "Modal Price (Rs./Quintal)    object\n",
       "Price Date                   object\n",
       "dtype: object"
      ]
     },
     "execution_count": 67,
     "metadata": {},
     "output_type": "execute_result"
    }
   ],
   "source": [
    "df.dtypes"
   ]
  },
  {
   "cell_type": "markdown",
   "id": "bright-section",
   "metadata": {},
   "source": [
    "#### Market Name by Modal Price"
   ]
  },
  {
   "cell_type": "code",
   "execution_count": 75,
   "id": "recreational-ready",
   "metadata": {},
   "outputs": [
    {
     "data": {
      "text/plain": [
       "([0, 1, 2, 3, 4, 5, 6, 7],\n",
       " [Text(0, 0, ''),\n",
       "  Text(0, 0, ''),\n",
       "  Text(0, 0, ''),\n",
       "  Text(0, 0, ''),\n",
       "  Text(0, 0, ''),\n",
       "  Text(0, 0, ''),\n",
       "  Text(0, 0, ''),\n",
       "  Text(0, 0, '')])"
      ]
     },
     "execution_count": 75,
     "metadata": {},
     "output_type": "execute_result"
    },
    {
     "data": {
      "image/png": "[encoded data removed]",
      "text/plain": [
       "<Figure size 432x288 with 1 Axes>"
      ]
     },
     "metadata": {
      "needs_background": "light"
     },
     "output_type": "display_data"
    }
   ],
   "source": [
    "fig, ax = plt.subplots()\n",
    "ax.bar(df['Market Name'], df['Modal Price (Rs./Quintal)'])\n",
    "\n",
    "ax.set_title('Market Price')\n",
    "ax.set_xlabel('Market Name')\n",
    "ax.set_ylabel('Modal Price')\n",
    "plt.xticks(rotation=45)"
   ]
  },
  {
   "cell_type": "markdown",
   "id": "decimal-piece",
   "metadata": {},
   "source": [
    "#### Market Name by Min Price"
   ]
  },
  {
   "cell_type": "code",
   "execution_count": 76,
   "id": "recreational-guest",
   "metadata": {},
   "outputs": [
    {
     "data": {
      "text/plain": [
       "([0, 1, 2, 3, 4, 5, 6, 7],\n",
       " [Text(0, 0, ''),\n",
       "  Text(0, 0, ''),\n",
       "  Text(0, 0, ''),\n",
       "  Text(0, 0, ''),\n",
       "  Text(0, 0, ''),\n",
       "  Text(0, 0, ''),\n",
       "  Text(0, 0, ''),\n",
       "  Text(0, 0, '')])"
      ]
     },
     "execution_count": 76,
     "metadata": {},
     "output_type": "execute_result"
    },
    {
     "data": {
      "image/png": "[encoded data removed]",
      "text/plain": [
       "<Figure size 432x288 with 1 Axes>"
      ]
     },
     "metadata": {
      "needs_background": "light"
     },
     "output_type": "display_data"
    }
   ],
   "source": [
    "fig, ax = plt.subplots()\n",
    "ax.bar(df['Market Name'], df['Min Price (Rs./Quintal)'])\n",
    "\n",
    "ax.set_title('Market Price')\n",
    "ax.set_xlabel('Market Name')\n",
    "ax.set_ylabel('Min Price')\n",
    "plt.xticks(rotation=45)"
   ]
  },
  {
   "cell_type": "markdown",
   "id": "outer-rebate",
   "metadata": {},
   "source": [
    "#### Market Name by Max Price"
   ]
  },
  {
   "cell_type": "code",
   "execution_count": 78,
   "id": "acoustic-sullivan",
   "metadata": {},
   "outputs": [
    {
     "data": {
      "text/plain": [
       "([0, 1, 2, 3, 4, 5, 6, 7],\n",
       " [Text(0, 0, ''),\n",
       "  Text(0, 0, ''),\n",
       "  Text(0, 0, ''),\n",
       "  Text(0, 0, ''),\n",
       "  Text(0, 0, ''),\n",
       "  Text(0, 0, ''),\n",
       "  Text(0, 0, ''),\n",
       "  Text(0, 0, '')])"
      ]
     },
     "execution_count": 78,
     "metadata": {},
     "output_type": "execute_result"
    },
    {
     "data": {
      "image/png": "[encoded data removed]",
      "text/plain": [
       "<Figure size 432x288 with 1 Axes>"
      ]
     },
     "metadata": {
      "needs_background": "light"
     },
     "output_type": "display_data"
    }
   ],
   "source": [
    "fig, ax = plt.subplots()\n",
    "ax.bar(df['Market Name'], df['Max Price (Rs./Quintal)'])\n",
    "\n",
    "ax.set_title('Market Price')\n",
    "ax.set_xlabel('Market Name')\n",
    "ax.set_ylabel('Max Price')\n",
    "plt.xticks(rotation=45)"
   ]
  },
  {
   "cell_type": "markdown",
   "id": "opened-wonder",
   "metadata": {},
   "source": [
    "#### Variety by Modal Price"
   ]
  },
  {
   "cell_type": "code",
   "execution_count": 79,
   "id": "copyrighted-grade",
   "metadata": {},
   "outputs": [
    {
     "data": {
      "text/plain": [
       "([0, 1, 2, 3],\n",
       " [Text(0, 0, ''), Text(0, 0, ''), Text(0, 0, ''), Text(0, 0, '')])"
      ]
     },
     "execution_count": 79,
     "metadata": {},
     "output_type": "execute_result"
    },
    {
     "data": {
      "image/png": "[encoded data removed]",
      "text/plain": [
       "<Figure size 432x288 with 1 Axes>"
      ]
     },
     "metadata": {
      "needs_background": "light"
     },
     "output_type": "display_data"
    }
   ],
   "source": [
    "fig, ax = plt.subplots()\n",
    "ax.bar(df['Variety'], df['Modal Price (Rs./Quintal)'])\n",
    "\n",
    "ax.set_title('Variety & Price')\n",
    "ax.set_xlabel('Variety')\n",
    "ax.set_ylabel('Modal Price')\n",
    "plt.xticks(rotation=45)"
   ]
  },
  {
   "cell_type": "markdown",
   "id": "beautiful-relations",
   "metadata": {},
   "source": [
    "#### Variety by Min Price"
   ]
  },
  {
   "cell_type": "code",
   "execution_count": 80,
   "id": "critical-italian",
   "metadata": {},
   "outputs": [
    {
     "data": {
      "text/plain": [
       "([0, 1, 2, 3],\n",
       " [Text(0, 0, ''), Text(0, 0, ''), Text(0, 0, ''), Text(0, 0, '')])"
      ]
     },
     "execution_count": 80,
     "metadata": {},
     "output_type": "execute_result"
    },
    {
     "data": {
      "image/png": "[encoded data removed]",
      "text/plain": [
       "<Figure size 432x288 with 1 Axes>"
      ]
     },
     "metadata": {
      "needs_background": "light"
     },
     "output_type": "display_data"
    }
   ],
   "source": [
    "fig, ax = plt.subplots()\n",
    "ax.bar(df['Variety'], df['Min Price (Rs./Quintal)'])\n",
    "\n",
    "ax.set_title('Variety & Price')\n",
    "ax.set_xlabel('Variety')\n",
    "ax.set_ylabel('Min Price')\n",
    "plt.xticks(rotation=45)"
   ]
  },
  {
   "cell_type": "markdown",
   "id": "cognitive-sally",
   "metadata": {},
   "source": [
    "#### Variety by Max Price"
   ]
  },
  {
   "cell_type": "code",
   "execution_count": 81,
   "id": "purple-tutorial",
   "metadata": {},
   "outputs": [
    {
     "data": {
      "text/plain": [
       "([0, 1, 2, 3],\n",
       " [Text(0, 0, ''), Text(0, 0, ''), Text(0, 0, ''), Text(0, 0, '')])"
      ]
     },
     "execution_count": 81,
     "metadata": {},
     "output_type": "execute_result"
    },
    {
     "data": {
      "image/png": "[encoded data removed]",
      "text/plain": [
       "<Figure size 432x288 with 1 Axes>"
      ]
     },
     "metadata": {
      "needs_background": "light"
     },
     "output_type": "display_data"
    }
   ],
   "source": [
    "fig, ax = plt.subplots()\n",
    "ax.bar(df['Variety'], df['Max Price (Rs./Quintal)'])\n",
    "\n",
    "ax.set_title('Variety & Price')\n",
    "ax.set_xlabel('Variety')\n",
    "ax.set_ylabel('Min Price')\n",
    "plt.xticks(rotation=45)"
   ]
  }
 ],
 "metadata": {
  "kernelspec": {
   "display_name": "Python 3",
   "language": "python",
   "name": "python3"
  },
  "language_info": {
   "codemirror_mode": {
    "name": "ipython",
    "version": 3
   },
   "file_extension": ".py",
   "mimetype": "text/x-python",
   "name": "python",
   "nbconvert_exporter": "python",
   "pygments_lexer": "ipython3",
   "version": "3.8.5"
  }
 },
 "nbformat": 4,
 "nbformat_minor": 5
}
